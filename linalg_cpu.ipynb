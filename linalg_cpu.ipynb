{
 "cells": [
  {
   "cell_type": "code",
   "execution_count": 22,
   "metadata": {
    "collapsed": true
   },
   "outputs": [],
   "source": [
    "import numpy as np\n",
    "import pandas as pd\n",
    "import matplotlib.pyplot as plt\n",
    "import string\n",
    "from __future__ import division"
   ]
  },
  {
   "cell_type": "code",
   "execution_count": 3,
   "metadata": {
    "collapsed": true
   },
   "outputs": [],
   "source": [
    "# page 10\n",
    "# Uniform distributions\n",
    "Pr = {'heads':1/2, 'tails':1/2} # function that maps outcoumes H/T to image of probability\n",
    "Pr = {1:1/6, 2:1/6, 3:1/6, 4:1/6, 5:1/6, 6:1/6}\n"
   ]
  },
  {
   "cell_type": "code",
   "execution_count": 28,
   "metadata": {
    "collapsed": false
   },
   "outputs": [
    {
     "name": "stdout",
     "output_type": "stream",
     "text": [
      "{'A': 0.09473684210526316, 'C': 0.021052631578947368, 'B': 0.021052631578947368, 'E': 0.12631578947368421, 'D': 0.042105263157894736, 'G': 0.031578947368421054, 'F': 0.021052631578947368, 'I': 0.09473684210526316, 'H': 0.021052631578947368, 'K': 0.010526315789473684, 'J': 0.010526315789473684, 'M': 0.021052631578947368, 'L': 0.010526315789473684, 'O': 0.08421052631578947, 'N': 0.06315789473684211, 'Q': 0.010526315789473684, 'P': 0.021052631578947368, 'S': 0.042105263157894736, 'R': 0.06315789473684211, 'U': 0.042105263157894736, 'T': 0.06315789473684211, 'W': 0.021052631578947368, 'V': 0.021052631578947368, 'Y': 0.021052631578947368, 'X': 0.010526315789473684, 'Z': 0.010526315789473684}\n",
      "Sum of all 1.0\n"
     ]
    }
   ],
   "source": [
    "# scrabble example\n",
    "c = 1/95 # there are 95 letters in the box\n",
    "abc = string.uppercase\n",
    "qty = [9, 2, 2, 4,\n",
    "       12, 2, 3, 2, \n",
    "       9, 1, 1, 1,\n",
    "      2, 6, 8, 2,\n",
    "      1, 6, 4, 6,\n",
    "      4, 2, 2, 1,\n",
    "      2, 1]\n",
    "scrabble = {}\n",
    "for pair in zip(abc, qty):\n",
    "    scrabble[pair[0]] = pair[1]*c\n",
    "print scrabble # is a function, all keys are domain, all values are co-domain and image\n",
    "print 'Sum of all', sum(scrabble.values())"
   ]
  },
  {
   "cell_type": "code",
   "execution_count": 29,
   "metadata": {
    "collapsed": false
   },
   "outputs": [
    {
     "data": {
      "text/plain": [
       "[0.09473684210526316,\n",
       " 0.09473684210526316,\n",
       " 0.12631578947368421,\n",
       " 0.042105263157894736,\n",
       " 0.08421052631578947]"
      ]
     },
     "execution_count": 29,
     "metadata": {},
     "output_type": "execute_result"
    }
   ],
   "source": [
    "vowels = {'A', 'E', 'I', 'O', 'U'} # event set of outcomes\n",
    "PV = [scrabble[x] for x in vowels]\n",
    "print "
   ]
  },
  {
   "cell_type": "code",
   "execution_count": null,
   "metadata": {
    "collapsed": true
   },
   "outputs": [],
   "source": []
  }
 ],
 "metadata": {
  "kernelspec": {
   "display_name": "Python 2",
   "language": "python",
   "name": "python2"
  },
  "language_info": {
   "codemirror_mode": {
    "name": "ipython",
    "version": 2
   },
   "file_extension": ".py",
   "mimetype": "text/x-python",
   "name": "python",
   "nbconvert_exporter": "python",
   "pygments_lexer": "ipython2",
   "version": "2.7.13"
  }
 },
 "nbformat": 4,
 "nbformat_minor": 2
}
